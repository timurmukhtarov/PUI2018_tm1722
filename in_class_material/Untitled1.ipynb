{
 "cells": [
  {
   "cell_type": "code",
   "execution_count": 13,
   "metadata": {},
   "outputs": [],
   "source": [
    "import matplotlib.pylab as pl\n",
    "import numpy as np\n",
    "%matplotlib inline"
   ]
  },
  {
   "cell_type": "code",
   "execution_count": 49,
   "metadata": {},
   "outputs": [],
   "source": [
    "np.random.seed(66)"
   ]
  },
  {
   "cell_type": "code",
   "execution_count": 50,
   "metadata": {},
   "outputs": [],
   "source": [
    "something = np.random.rand(40) * 3 + 10"
   ]
  },
  {
   "cell_type": "code",
   "execution_count": 51,
   "metadata": {},
   "outputs": [],
   "source": [
    "somethingelse = np.random.rand(40) * 4 + 15"
   ]
  },
  {
   "cell_type": "code",
   "execution_count": 52,
   "metadata": {},
   "outputs": [],
   "source": [
    "sample1 = np.array(list(zip(something, somethingelse)))"
   ]
  },
  {
   "cell_type": "code",
   "execution_count": 53,
   "metadata": {},
   "outputs": [],
   "source": [
    "sample2 = np.random.rand(20,2) "
   ]
  },
  {
   "cell_type": "code",
   "execution_count": 54,
   "metadata": {},
   "outputs": [
    {
     "data": {
      "text/plain": [
       "array([[  3.16882748e-01,   7.03736931e-01],\n",
       "       [  7.70374642e-01,   4.18003926e-01],\n",
       "       [  8.92316485e-02,   2.33518873e-01],\n",
       "       [  7.59518707e-01,   4.69182143e-01],\n",
       "       [  2.02953722e-01,   6.96093851e-01],\n",
       "       [  9.09948634e-01,   5.82322805e-02],\n",
       "       [  7.88587264e-01,   3.95683764e-01],\n",
       "       [  8.15125530e-01,   5.66379461e-01],\n",
       "       [  3.99532570e-01,   6.98900921e-01],\n",
       "       [  5.86129915e-01,   5.48260640e-01],\n",
       "       [  5.13352940e-04,   5.58941164e-01],\n",
       "       [  5.54009148e-01,   2.99056732e-01],\n",
       "       [  2.16054328e-01,   1.25615479e-01],\n",
       "       [  6.47052919e-01,   4.69024537e-01],\n",
       "       [  7.97958857e-01,   1.29142911e-02],\n",
       "       [  8.69272440e-01,   3.71849961e-01],\n",
       "       [  7.52543552e-01,   8.67430469e-01],\n",
       "       [  2.40413738e-01,   4.95077760e-01],\n",
       "       [  8.19241343e-01,   8.23460428e-01],\n",
       "       [  5.82590357e-01,   2.20496711e-01]])"
      ]
     },
     "execution_count": 54,
     "metadata": {},
     "output_type": "execute_result"
    }
   ],
   "source": [
    "sample2"
   ]
  },
  {
   "cell_type": "code",
   "execution_count": 55,
   "metadata": {},
   "outputs": [],
   "source": [
    "sample2 = sample2 * (3,2) + (12,14) "
   ]
  },
  {
   "cell_type": "code",
   "execution_count": 56,
   "metadata": {},
   "outputs": [
    {
     "data": {
      "text/plain": [
       "[<matplotlib.lines.Line2D at 0x7f3bee3c0908>]"
      ]
     },
     "execution_count": 56,
     "metadata": {},
     "output_type": "execute_result"
    },
    {
     "data": {
      "image/png": "[encoded data removed]",
      "text/plain": [
       "<matplotlib.figure.Figure at 0x7f3bee3c09b0>"
      ]
     },
     "metadata": {},
     "output_type": "display_data"
    }
   ],
   "source": [
    "pl.plot(sample1[:,0], sample1[:,1], '.')\n",
    "pl.plot(sample2[:,0], sample2[:,1], '.')"
   ]
  },
  {
   "cell_type": "code",
   "execution_count": 57,
   "metadata": {},
   "outputs": [],
   "source": [
    "rand1x = np.random.rand(1) * 5 + 10\n",
    "rand1y = np.random.rand(1) * 5 + 14\n",
    "\n",
    "rand2x = np.random.rand(1) * 5 + 14\n",
    "rand2y = np.random.rand(1) * 5 + 14\n"
   ]
  },
  {
   "cell_type": "code",
   "execution_count": 58,
   "metadata": {},
   "outputs": [
    {
     "data": {
      "text/plain": [
       "[<matplotlib.lines.Line2D at 0x7f3bee2f3d68>]"
      ]
     },
     "execution_count": 58,
     "metadata": {},
     "output_type": "execute_result"
    },
    {
     "data": {
      "image/png": "[encoded data removed]",
      "text/plain": [
       "<matplotlib.figure.Figure at 0x7f3bee31d9e8>"
      ]
     },
     "metadata": {},
     "output_type": "display_data"
    }
   ],
   "source": [
    "pl.plot(sample1[:,0], sample1[:,1], '.')\n",
    "pl.plot(sample2[:,0], sample2[:,1], '.')\n",
    "pl.plot(rand1x, rand1y, 'x')\n",
    "pl.plot(rand2x, rand2y, 'x')"
   ]
  },
  {
   "cell_type": "code",
   "execution_count": 62,
   "metadata": {},
   "outputs": [],
   "source": [
    "def distance (point1, point2):\n",
    "    return np.sqrt((point1[0]-point2[0])**2 + (point1[1]-point2[1])**2)"
   ]
  },
  {
   "cell_type": "code",
   "execution_count": 63,
   "metadata": {},
   "outputs": [
    {
     "data": {
      "text/plain": [
       "2.4896822511351617"
      ]
     },
     "execution_count": 63,
     "metadata": {},
     "output_type": "execute_result"
    }
   ],
   "source": [
    "distance(sample1[0], sample2[0])"
   ]
  },
  {
   "cell_type": "code",
   "execution_count": 65,
   "metadata": {},
   "outputs": [
    {
     "name": "stdout",
     "output_type": "stream",
     "text": [
      "[False]\n",
      "[False]\n",
      "[False]\n",
      "[False]\n",
      "[False]\n",
      "[False]\n",
      "[False]\n",
      "[False]\n",
      "[False]\n",
      "[False]\n",
      "[False]\n",
      "[False]\n",
      "[False]\n",
      "[False]\n",
      "[False]\n",
      "[False]\n",
      "[False]\n",
      "[False]\n",
      "[False]\n",
      "[False]\n",
      "[False]\n",
      "[False]\n",
      "[False]\n",
      "[False]\n",
      "[False]\n",
      "[False]\n",
      "[False]\n",
      "[False]\n",
      "[False]\n",
      "[False]\n",
      "[False]\n",
      "[False]\n",
      "[False]\n",
      "[False]\n",
      "[False]\n",
      "[False]\n",
      "[False]\n",
      "[False]\n",
      "[False]\n",
      "[False]\n"
     ]
    }
   ],
   "source": [
    "for x in sample1:\n",
    "    print(distance(x, (rand1x, rand1y)) >  distance(x, (rand2x, rand2y)))"
   ]
  },
  {
   "cell_type": "code",
   "execution_count": null,
   "metadata": {},
   "outputs": [],
   "source": []
  }
 ],
 "metadata": {
  "kernelspec": {
   "display_name": "PUI2016_Python3",
   "language": "python",
   "name": "pui2016_python3"
  },
  "language_info": {
   "codemirror_mode": {
    "name": "ipython",
    "version": 3
   },
   "file_extension": ".py",
   "mimetype": "text/x-python",
   "name": "python",
   "nbconvert_exporter": "python",
   "pygments_lexer": "ipython3",
   "version": "3.5.4"
  }
 },
 "nbformat": 4,
 "nbformat_minor": 2
}
